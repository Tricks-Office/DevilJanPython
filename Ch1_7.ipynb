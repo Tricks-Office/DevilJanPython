{
 "cells": [
  {
   "cell_type": "markdown",
   "metadata": {},
   "source": [
    "### 피벗 테이블 구현하기"
   ]
  },
  {
   "cell_type": "code",
   "execution_count": null,
   "metadata": {},
   "outputs": [],
   "source": []
  },
  {
   "cell_type": "code",
   "execution_count": 1,
   "metadata": {},
   "outputs": [],
   "source": [
    "import pandas as pd\n",
    "\n",
    "df1 = pd.read_excel('C:/Data/Sample/1_7_Python_Excel/매출관리Sample_Mod.xlsx')\n",
    "df2 = pd.read_excel('C:/Data/Sample/1_7_Python_Excel/매출관리Sample_Mod.xlsx', sheet_name = 1)\n",
    "df3 = pd.read_excel('C:/Data/Sample/1_7_Python_Excel/매출관리Sample_Mod.xlsx', sheet_name = 2)\n",
    "\n",
    "dfr = df1.merge(df2, how='left', left_on = '담당자 코드', right_on='사번')\n",
    "dfr = dfr.merge(df3, how='left', on = '강의코드')\n",
    "\n",
    "dfr['매출액'] = dfr['단가']*dfr['수강인원']"
   ]
  },
  {
   "cell_type": "code",
   "execution_count": 4,
   "metadata": {},
   "outputs": [
    {
     "name": "stderr",
     "output_type": "stream",
     "text": [
      "C:\\Users\\550sn\\AppData\\Local\\Temp\\ipykernel_23260\\2934177225.py:3: FutureWarning: The provided callable <function sum at 0x00000222C65A2660> is currently using DataFrameGroupBy.sum. In a future version of pandas, the provided callable will be used directly. To keep current behavior pass the string \"sum\" instead.\n",
      "  dfP = pd.pivot_table(dfr, values='매출액', columns='이름',\n"
     ]
    }
   ],
   "source": [
    "import numpy as np\n",
    "\n",
    "dfP = pd.pivot_table(dfr, values='매출액', columns='이름',\n",
    "                    index=['접수월'], aggfunc=np.sum)"
   ]
  }
 ],
 "metadata": {
  "kernelspec": {
   "display_name": "Python 3",
   "language": "python",
   "name": "python3"
  },
  "language_info": {
   "codemirror_mode": {
    "name": "ipython",
    "version": 3
   },
   "file_extension": ".py",
   "mimetype": "text/x-python",
   "name": "python",
   "nbconvert_exporter": "python",
   "pygments_lexer": "ipython3",
   "version": "3.12.4"
  }
 },
 "nbformat": 4,
 "nbformat_minor": 2
}
